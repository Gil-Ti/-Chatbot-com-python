{
 "cells": [
  {
   "cell_type": "code",
   "execution_count": 8,
   "id": "16a21bd2",
   "metadata": {},
   "outputs": [
    {
     "name": "stdout",
     "output_type": "stream",
     "text": [
      "✔ Download and installation successful\n",
      "You can now load the package via spacy.load('en_core_web_sm')\n"
     ]
    }
   ],
   "source": [
    "from chatterbot import ChatBot\n",
    "from chatterbot.trainers import ListTrainer\n",
    "\n",
    "# isso aqui só precisa para corrigir o bug\n",
    "from spacy.cli import download\n",
    "\n",
    "download(\"en_core_web_sm\")\n",
    "\n",
    "class ENGSM:\n",
    "    ISO_639_1 = 'en_core_web_sm'\n"
   ]
  },
  {
   "cell_type": "code",
   "execution_count": 10,
   "id": "44908807",
   "metadata": {},
   "outputs": [
    {
     "ename": "SyntaxError",
     "evalue": "invalid syntax (<ipython-input-10-d4cf35d70f18>, line 16)",
     "output_type": "error",
     "traceback": [
      "\u001b[1;36m  File \u001b[1;32m\"<ipython-input-10-d4cf35d70f18>\"\u001b[1;36m, line \u001b[1;32m16\u001b[0m\n\u001b[1;33m    trainer = ListTrainer(chatbot)\u001b[0m\n\u001b[1;37m            ^\u001b[0m\n\u001b[1;31mSyntaxError\u001b[0m\u001b[1;31m:\u001b[0m invalid syntax\n"
     ]
    }
   ],
   "source": [
    "chatbot = ChatBot(\"OPEN\", tagger_language=ENGSM)\n",
    "\n",
    "\n",
    "conversa = [ \n",
    "   \n",
    "    \"Quem é o responsável pela retenção tributária?\" ,\n",
    "    \"O responsável pela retenção tributária é aquele que efetua o pagamento ao contribuinte. Por exemplo, a empresa contratante é responsável por reter e recolher os tributos quando realiza o pagamento a um prestador de serviço.\",\n",
    "    \"Como é feito o cálculo da retenção tributária?\" ,\n",
    "    \"O cálculo da retenção tributária é feito sobre o valor total da operação ou serviço contratado, utilizando-se a alíquota específica de cada tributo. Essa alíquota varia de acordo com a natureza da operação e a legislação tributária.\" ,\n",
    "    \"O que acontece se a retenção tributária não for feita corretamente?\" ,\n",
    "    \"Se a retenção tributária não for feita corretamente, o responsável pelo pagamento poderá ser autuado e ter que arcar com multas e juros de mora. Além disso, o contribuinte que não teve o tributo retido na fonte poderá ser cobrado pelo valor devido, acrescido de juros e correção monetária.\" ,\n",
    "    \"O que é retenção tributária?\",\n",
    "    \"Retenção tributária é um mecanismo utilizado pela legislação tributária para garantir o recolhimento de impostos, taxas e contribuições sociais. Nesse caso, o responsável pelo pagamento de uma determinada obrigação tributária retém parte do valor devido pelo contribuinte, e o repassa aos cofres públicos.\",\n",
    "\n",
    "trainer = ListTrainer(chatbot)\n",
    "trainer.train(conversa)\n"
   ]
  },
  {
   "cell_type": "code",
   "execution_count": null,
   "id": "1e01561e",
   "metadata": {},
   "outputs": [],
   "source": []
  }
 ],
 "metadata": {
  "kernelspec": {
   "display_name": "Python 3 (ipykernel)",
   "language": "python",
   "name": "python3"
  },
  "language_info": {
   "codemirror_mode": {
    "name": "ipython",
    "version": 3
   },
   "file_extension": ".py",
   "mimetype": "text/x-python",
   "name": "python",
   "nbconvert_exporter": "python",
   "pygments_lexer": "ipython3",
   "version": "3.9.12"
  }
 },
 "nbformat": 4,
 "nbformat_minor": 5
}
